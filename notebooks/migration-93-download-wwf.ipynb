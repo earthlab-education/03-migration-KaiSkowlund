{
  "cells": [
    {
      "cell_type": "markdown",
      "id": "a9ee0085-14be-4448-8356-ad77939f79e6",
      "metadata": {},
      "source": [
        "# Migration Data Download\n",
        "\n",
        "Get occurrence data from the Global Biodiversity Information Facility\n",
        "(GBIF)\n",
        "\n",
        "## STEP 0: Set up\n",
        "\n",
        "To get started on this notebook, you’ll need to restore any variables\n",
        "from previous notebooks to your workspace. To save time and memory, make\n",
        "sure to specify which variables you want to load."
      ]
    },
    {
      "cell_type": "code",
      "execution_count": 26,
      "id": "300a60b6",
      "metadata": {},
      "outputs": [],
      "source": [
        "%store -r gdf2 df2 project"
      ]
    },
    {
      "cell_type": "code",
      "execution_count": 8,
      "id": "919bc93a",
      "metadata": {
        "template": "answer"
      },
      "outputs": [
        {
          "data": {
            "image/svg+xml": [
              "<svg xmlns=\"http://www.w3.org/2000/svg\" xmlns:xlink=\"http://www.w3.org/1999/xlink\" width=\"100.0\" height=\"100.0\" viewBox=\"-4.4699152 42.0800848 8.0977104 5.467610399999998\" preserveAspectRatio=\"xMinYMin meet\"><g transform=\"matrix(1,0,0,-1,0,89.62778)\"><path fill-rule=\"evenodd\" fill=\"#66cc99\" stroke=\"#555555\" stroke-width=\"0.16195420800000002\" opacity=\"0.6\" d=\"M -4.17,42.38 L 3.32788,42.38 L 3.32788,47.24778 L -4.17,47.24778 L -4.17,42.38 z\" /></g></svg>"
            ],
            "text/plain": [
              "<POLYGON ((-4.17 42.38, 3.328 42.38, 3.328 47.248, -4.17 47.248, -4.17 42.38))>"
            ]
          },
          "execution_count": 8,
          "metadata": {},
          "output_type": "execute_result"
        }
      ],
      "source": [
        "# Merge the GBIF observations into a single geometry\n",
        "gbif_union = gdf2.geometry.union_all().envelope\n",
        "gbif_union"
      ]
    },
    {
      "cell_type": "markdown",
      "id": "dedab96c-32c4-4404-b2cb-bb2da4560e6d",
      "metadata": {},
      "source": [
        "<link rel=\"stylesheet\" type=\"text/css\" href=\"./assets/styles.css\"><div class=\"callout callout-style-default callout-titled callout-task\"><div class=\"callout-header\"><div class=\"callout-icon-container\"><i class=\"callout-icon\"></i></div><div class=\"callout-title-container flex-fill\">Try It</div></div><div class=\"callout-body-container callout-body\"><p>Run the code below, which converts your Polygon to a special type of\n",
        "GeoJSON needed for compatibility with the ArcGIS Feature Service. Check\n",
        "out and explore this data structure. How would you extract the\n",
        "geographic coordinates?</p></div></div>"
      ]
    },
    {
      "cell_type": "code",
      "execution_count": 9,
      "id": "aa05ac30",
      "metadata": {
        "template": "student"
      },
      "outputs": [
        {
          "data": {
            "text/plain": [
              "{'type': 'Polygon',\n",
              " 'coordinates': (((-4.17, 42.38),\n",
              "   (3.32788, 42.38),\n",
              "   (3.32788, 47.24778),\n",
              "   (-4.17, 47.24778),\n",
              "   (-4.17, 42.38)),)}"
            ]
          },
          "execution_count": 9,
          "metadata": {},
          "output_type": "execute_result"
        }
      ],
      "source": [
        "# Convert geometry to geoJSON\n",
        "gbif_geojson = gbif_union.__geo_interface__\n",
        "\n",
        "gbif_geojson"
      ]
    },
    {
      "cell_type": "code",
      "execution_count": 10,
      "id": "9446b368",
      "metadata": {
        "template": "answer"
      },
      "outputs": [
        {
          "data": {
            "text/plain": [
              "{'type': 'Polygon',\n",
              " 'coordinates': (((-4.17, 42.38),\n",
              "   (3.32788, 42.38),\n",
              "   (3.32788, 47.24778),\n",
              "   (-4.17, 47.24778),\n",
              "   (-4.17, 42.38)),)}"
            ]
          },
          "execution_count": 10,
          "metadata": {},
          "output_type": "execute_result"
        }
      ],
      "source": [
        "# Convert geometry to geoJSON\n",
        "gbif_geojson = gbif_union.__geo_interface__\n",
        "\n",
        "gbif_geojson"
      ]
    },
    {
      "cell_type": "markdown",
      "id": "7422cc46-c7e1-400d-88a8-1107fa0a8002",
      "metadata": {},
      "source": [
        "<link rel=\"stylesheet\" type=\"text/css\" href=\"./assets/styles.css\"><div class=\"callout callout-style-default callout-titled callout-respond\"><div class=\"callout-header\"><div class=\"callout-icon-container\"><i class=\"callout-icon\"></i></div><div class=\"callout-title-container flex-fill\">Reflect and Respond</div></div><div class=\"callout-body-container callout-body\"><p>What type of Python object is this geoJSON? How will you get the\n",
        "geographic coordinates only?</p></div></div>\n",
        "\n",
        "<link rel=\"stylesheet\" type=\"text/css\" href=\"./assets/styles.css\"><div class=\"callout callout-style-default callout-titled callout-task\"><div class=\"callout-header\"><div class=\"callout-icon-container\"><i class=\"callout-icon\"></i></div><div class=\"callout-title-container flex-fill\">Try It</div></div><div class=\"callout-body-container callout-body\"><ol type=\"1\">\n",
        "<li>Replace <code>feature-key</code> with the coordinate key you noted\n",
        "above.</li>\n",
        "<li>Replace CRS with the CRS of your GBIF download. It should be\n",
        "formatted as a 4-digit number, e.g. if the CRS is EPSG:1234, you should\n",
        "put <code>1234</code> into Python.</li>\n",
        "</ol></div></div>"
      ]
    },
    {
      "cell_type": "code",
      "execution_count": 16,
      "id": "a1f69ef2",
      "metadata": {
        "template": "student"
      },
      "outputs": [],
      "source": [
        "# Construct ArcGIS-compatible JSON\n",
        "import json\n",
        "\n",
        "arcgis_geom = json.dumps(dict(\n",
        "    rings=gbif_geojson[\"coordinates\"],\n",
        "    spatialReference={\"wkid\": 4326}\n",
        "))"
      ]
    },
    {
      "cell_type": "code",
      "execution_count": 7,
      "id": "6ca8c9f2",
      "metadata": {
        "template": "answer"
      },
      "outputs": [],
      "source": [
        "# Construct ArcGIS-compatible JSON\n",
        "arcgis_geom = json.dumps(dict(\n",
        "    rings=gbif_geojson[\"coordinates\"],\n",
        "    spatialReference={\"wkid\": 4326}\n",
        "))"
      ]
    },
    {
      "cell_type": "markdown",
      "id": "282ba5fd-f300-4726-8a85-ad1342f27f60",
      "metadata": {},
      "source": [
        "### STEP 2: Download data from the ArcGIS FeatureService"
      ]
    },
    {
      "cell_type": "code",
      "execution_count": 20,
      "id": "988c8c7d",
      "metadata": {
        "template": "student"
      },
      "outputs": [
        {
          "data": {
            "text/html": [
              "<div>\n",
              "<style scoped>\n",
              "    .dataframe tbody tr th:only-of-type {\n",
              "        vertical-align: middle;\n",
              "    }\n",
              "\n",
              "    .dataframe tbody tr th {\n",
              "        vertical-align: top;\n",
              "    }\n",
              "\n",
              "    .dataframe thead th {\n",
              "        text-align: right;\n",
              "    }\n",
              "</style>\n",
              "<table border=\"1\" class=\"dataframe\">\n",
              "  <thead>\n",
              "    <tr style=\"text-align: right;\">\n",
              "      <th></th>\n",
              "      <th>area_km2</th>\n",
              "      <th>geometry</th>\n",
              "    </tr>\n",
              "  </thead>\n",
              "  <tbody>\n",
              "    <tr>\n",
              "      <th>0</th>\n",
              "      <td>400447</td>\n",
              "      <td>POLYGON ((-2.23125 46.99704, -2.24296 46.98405...</td>\n",
              "    </tr>\n",
              "    <tr>\n",
              "      <th>1</th>\n",
              "      <td>400447</td>\n",
              "      <td>POLYGON ((-1.54836 46.2385, -1.51872 46.24842,...</td>\n",
              "    </tr>\n",
              "    <tr>\n",
              "      <th>2</th>\n",
              "      <td>79846</td>\n",
              "      <td>POLYGON ((-1.55955 43.49799, -1.54609 43.50015...</td>\n",
              "    </tr>\n",
              "    <tr>\n",
              "      <th>3</th>\n",
              "      <td>90851</td>\n",
              "      <td>POLYGON ((5.20185 44.99814, 5.20222 44.99814, ...</td>\n",
              "    </tr>\n",
              "    <tr>\n",
              "      <th>4</th>\n",
              "      <td>493836</td>\n",
              "      <td>POLYGON ((9.7741 52.13832, 9.78681 52.13611, 9...</td>\n",
              "    </tr>\n",
              "  </tbody>\n",
              "</table>\n",
              "</div>"
            ],
            "text/plain": [
              "   area_km2                                           geometry\n",
              "0    400447  POLYGON ((-2.23125 46.99704, -2.24296 46.98405...\n",
              "1    400447  POLYGON ((-1.54836 46.2385, -1.51872 46.24842,...\n",
              "2     79846  POLYGON ((-1.55955 43.49799, -1.54609 43.50015...\n",
              "3     90851  POLYGON ((5.20185 44.99814, 5.20222 44.99814, ...\n",
              "4    493836  POLYGON ((9.7741 52.13832, 9.78681 52.13611, 9..."
            ]
          },
          "execution_count": 20,
          "metadata": {},
          "output_type": "execute_result"
        }
      ],
      "source": [
        "# Prepare API request\n",
        "import requests\n",
        "from io import BytesIO\n",
        "import geopandas as gpd\n",
        "\n",
        "eco_url = (\n",
        "    \"https://services5.arcgis.com/0AFsQflykfA9lXZn\"\n",
        "    \"/ArcGIS/rest/services\"\n",
        "    \"/WWF_Terrestrial_Ecoregions_Of_The_World_official_teow\"\n",
        "    \"/FeatureServer/0/query\")\n",
        "eco_params = {\n",
        "    \"f\": \"geojson\",\n",
        "    \"where\": \"1=1\",\n",
        "    \"outFields\": \"area_km2\",\n",
        "    \"returnGeometry\": \"true\",\n",
        "    # Return polygons containing any GBIF observation\n",
        "    \"spatialRel\": \"esriSpatialRelIntersects\",  \n",
        "    \"geometryType\": \"esriGeometryPolygon\",\n",
        "    # Override web Mercator server default\n",
        "    \"inSR\": 4326,\n",
        "    \"outSR\": 4326,\n",
        "    # Must format geometry\n",
        "    \"geometry\": arcgis_geom\n",
        "}\n",
        "\n",
        "# Submit API request\n",
        "eco_resp = requests.get(\n",
        "    eco_url, params=eco_params,\n",
        "    headers={\"Accept-Encoding\": \"identity\"})\n",
        "eco_resp.raise_for_status()\n",
        "\n",
        "# Load binary data to DataFrame\n",
        "eco_gdf = gpd.read_file(BytesIO(eco_resp.content))\n",
        "\n",
        "# Check the download\n",
        "eco_gdf.head()"
      ]
    },
    {
      "cell_type": "code",
      "execution_count": 9,
      "id": "fa201781",
      "metadata": {
        "template": "answer"
      },
      "outputs": [],
      "source": [
        "# Prepare API request\n",
        "eco_url = (\n",
        "    \"https://services5.arcgis.com/0AFsQflykfA9lXZn\"\n",
        "    \"/ArcGIS/rest/services\"\n",
        "    \"/WWF_Terrestrial_Ecoregions_Of_The_World_official_teow\"\n",
        "    \"/FeatureServer/0/query\")\n",
        "eco_params = {\n",
        "    \"f\": \"geojson\",\n",
        "    \"where\": \"1=1\",\n",
        "    \"outFields\": \"eco_code,area_km2\",\n",
        "    \"returnGeometry\": \"true\",\n",
        "    # Return polygons containing any GBIF observation\n",
        "    \"spatialRel\": \"esriSpatialRelIntersects\",  \n",
        "    \"geometryType\": \"esriGeometryPolygon\",\n",
        "    # Override web Mercator server default\n",
        "    \"inSR\": \"4326\",\n",
        "    \"outSR\": \"4326\",\n",
        "    # Must format geometry\n",
        "    \"geometry\": arcgis_geom\n",
        "}\n",
        "\n",
        "# Submit API request\n",
        "eco_resp = requests.get(\n",
        "    eco_url, params=eco_params,\n",
        "    headers={\"Accept-Encoding\": \"identity\"})\n",
        "eco_resp.raise_for_status()\n",
        "\n",
        "# Load binary data to DataFrame\n",
        "eco_gdf = gpd.read_file(BytesIO(eco_resp.content))\n",
        "\n",
        "# Check the download\n",
        "eco_gdf.head()"
      ]
    },
    {
      "cell_type": "markdown",
      "id": "bc8235d0-987f-4e29-ab0d-65ed256b72c6",
      "metadata": {},
      "source": [
        "<link rel=\"stylesheet\" type=\"text/css\" href=\"./assets/styles.css\"><div class=\"callout callout-style-default callout-titled callout-task\"><div class=\"callout-header\"><div class=\"callout-icon-container\"><i class=\"callout-icon\"></i></div><div class=\"callout-title-container flex-fill\">Try It</div></div><div class=\"callout-body-container callout-body\"><p>Now, make a quick plot of your download to make sure that it worked\n",
        "correctly.</p></div></div>"
      ]
    },
    {
      "cell_type": "code",
      "execution_count": 10,
      "id": "25a23beb",
      "metadata": {
        "template": "student"
      },
      "outputs": [],
      "source": [
        "# Plot the ecoregion data"
      ]
    },
    {
      "cell_type": "code",
      "execution_count": 21,
      "id": "fc6675e0",
      "metadata": {
        "template": "answer"
      },
      "outputs": [
        {
          "data": {
            "text/plain": [
              "<Axes: >"
            ]
          },
          "execution_count": 21,
          "metadata": {},
          "output_type": "execute_result"
        },
        {
          "data": {
            "image/png": "[encoded data removed]",
            "text/plain": [
              "<Figure size 640x480 with 1 Axes>"
            ]
          },
          "metadata": {},
          "output_type": "display_data"
        }
      ],
      "source": [
        "# Plot the ecoregion data\n",
        "eco_gdf.plot()"
      ]
    },
    {
      "cell_type": "markdown",
      "id": "00ebd6d5-dda0-41e0-98cf-c9b7ad37ee30",
      "metadata": {},
      "source": [
        "### STEP 3 (Optional): Save your data\n",
        "\n",
        "<link rel=\"stylesheet\" type=\"text/css\" href=\"./assets/styles.css\"><div class=\"callout callout-style-default callout-titled callout-task\"><div class=\"callout-header\"><div class=\"callout-icon-container\"><i class=\"callout-icon\"></i></div><div class=\"callout-title-container flex-fill\">Try It</div></div><div class=\"callout-body-container callout-body\"><ol type=\"1\">\n",
        "<li>Create a new directory in your data directory for the ecoregions\n",
        "data.</li>\n",
        "<li>Define a path to a Shapefile where you will save the ecoregions\n",
        "data.</li>\n",
        "<li>Save the ecoregions to the file.</li>\n",
        "</ol></div></div>"
      ]
    },
    {
      "cell_type": "code",
      "execution_count": 22,
      "id": "f5177d07",
      "metadata": {
        "template": "student"
      },
      "outputs": [
        {
          "name": "stdout",
          "output_type": "stream",
          "text": [
            "Stored 'eco_gdf' (GeoDataFrame)\n",
            "Stored 'df2' (DataFrame)\n"
          ]
        }
      ],
      "source": [
        "# Save the ecoregion data\n",
        "\n",
        "%store eco_gdf df2"
      ]
    },
    {
      "cell_type": "code",
      "execution_count": 27,
      "id": "2cdfe1ac",
      "metadata": {
        "template": "answer"
      },
      "outputs": [],
      "source": [
        "# Save the ecoregion data\n",
        "eco_dir = project.project_dir / 'ecoregions'\n",
        "eco_dir.mkdir(exist_ok=True)\n",
        "eco_path = eco_dir / 'ecoregions.shp'\n",
        "eco_gdf.to_file(eco_path)"
      ]
    }
  ],
  "metadata": {
    "kernelspec": {
      "display_name": "base",
      "language": "python",
      "name": "python3"
    },
    "language_info": {
      "codemirror_mode": {
        "name": "ipython",
        "version": 3
      },
      "file_extension": ".py",
      "mimetype": "text/x-python",
      "name": "python",
      "nbconvert_exporter": "python",
      "pygments_lexer": "ipython3",
      "version": "3.11.6"
    }
  },
  "nbformat": 4,
  "nbformat_minor": 5
}
